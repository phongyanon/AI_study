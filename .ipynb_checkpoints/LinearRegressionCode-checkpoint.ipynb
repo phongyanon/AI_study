{
 "cells": [
  {
   "cell_type": "code",
   "execution_count": 2,
   "metadata": {},
   "outputs": [],
   "source": [
    "import numpy as np\n",
    "import pandas as pd\n",
    "import matplotlib.pyplot as plt\n",
    "%matplotlib inline"
   ]
  },
  {
   "cell_type": "code",
   "execution_count": 1,
   "metadata": {},
   "outputs": [],
   "source": [
    "def LR_find_r(X, Y):\n",
    "    Xmean = X.mean()\n",
    "    Ymean = Y.mean()\n",
    "    fraction = ((X-Xmean)*(Y-Ymean)).sum()\n",
    "    denorminator = np.sqrt( ((X-Xmean)**2).sum() * ((Y-Ymean)**2).sum() )\n",
    "    r = fraction/denorminator\n",
    "    return r"
   ]
  },
  {
   "cell_type": "code",
   "execution_count": 2,
   "metadata": {},
   "outputs": [],
   "source": [
    "def LR_find_ab(X, Y):\n",
    "    XY = X*Y\n",
    "    X2 = X**2\n",
    "    Xmean = X.mean()\n",
    "    Ymean = Y.mean()\n",
    "    XYmean = XY.mean()\n",
    "    X2mean = X2.mean()\n",
    "    denorminator = X2mean - Xmean**2\n",
    "    a = ( XYmean - Xmean*Ymean ) / denorminator\n",
    "    b = ( X2mean*Ymean - Xmean*XYmean ) / denorminator\n",
    "    return a, b"
   ]
  },
  {
   "cell_type": "code",
   "execution_count": 3,
   "metadata": {},
   "outputs": [],
   "source": [
    "def LR_find_Yhat(X, a, b):\n",
    "    Yhat = a*X + b\n",
    "    return Yhat"
   ]
  },
  {
   "cell_type": "code",
   "execution_count": 4,
   "metadata": {},
   "outputs": [],
   "source": [
    "def find_error(Y, Yhat, TypeOfError):\n",
    "    if TypeOfError == 'SSE':\n",
    "        error = find_SSE(Y, Yhat)\n",
    "    elif TypeOfError == 'MSE':\n",
    "        error = find_MSE(Y, Yhat)\n",
    "    elif TypeOfError == 'MAE':\n",
    "        error = find_MAE(Y, Yhat)\n",
    "    elif TypeOfError == 'MAPE':\n",
    "        error = find_MAPE(Y, Yhat)\n",
    "    return error"
   ]
  },
  {
   "cell_type": "code",
   "execution_count": 5,
   "metadata": {},
   "outputs": [],
   "source": [
    "def find_SSE(Y, Yhat):\n",
    "    SSE = ((Y-Yhat)**2).sum()\n",
    "    return SSE"
   ]
  },
  {
   "cell_type": "code",
   "execution_count": 6,
   "metadata": {},
   "outputs": [],
   "source": [
    "def find_MSE(Y, Yhat):\n",
    "    N = Y.shape[0]\n",
    "    SSE = ((Y-Yhat)**2).sum()\n",
    "    MSE = SSE/N\n",
    "    return MSE"
   ]
  },
  {
   "cell_type": "code",
   "execution_count": 7,
   "metadata": {},
   "outputs": [],
   "source": [
    "def find_MAE(Y, Yhat):\n",
    "    N = Y.shape[0]\n",
    "    MAE = np.abs(Y-Yhat).sum()/N\n",
    "    return MAE"
   ]
  },
  {
   "cell_type": "code",
   "execution_count": 9,
   "metadata": {},
   "outputs": [],
   "source": [
    "def find_MAPE(Y, Yhat):\n",
    "    N = Y.shape[0]\n",
    "    MAPE = np.abs((Y-Yhat)/Y).sum()*100/N\n",
    "    return MAPE"
   ]
  },
  {
   "cell_type": "code",
   "execution_count": 13,
   "metadata": {},
   "outputs": [],
   "source": [
    "# Data = pd.read_excel('Data.xlsx')\n",
    "# Data = pd.read_csv('Data.csv')\n",
    "# DataMatrix = Data.as_matrix()\n",
    "# DataMatrix = Data.values\n",
    "\n",
    "# X = DataMatrix[:, 0]\n",
    "# Y = DataMatrix[:, 1]"
   ]
  },
  {
   "cell_type": "code",
   "execution_count": null,
   "metadata": {},
   "outputs": [],
   "source": []
  }
 ],
 "metadata": {
  "kernelspec": {
   "display_name": "Python 3",
   "language": "python",
   "name": "python3"
  },
  "language_info": {
   "codemirror_mode": {
    "name": "ipython",
    "version": 3
   },
   "file_extension": ".py",
   "mimetype": "text/x-python",
   "name": "python",
   "nbconvert_exporter": "python",
   "pygments_lexer": "ipython3",
   "version": "3.8.2"
  }
 },
 "nbformat": 4,
 "nbformat_minor": 4
}
