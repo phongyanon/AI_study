{
 "cells": [
  {
   "cell_type": "code",
   "execution_count": 100,
   "metadata": {},
   "outputs": [],
   "source": [
    "import numpy as np\n",
    "from numpy.linalg import inv\n",
    "import pandas as pd\n",
    "import matplotlib.pyplot as plt\n",
    "%matplotlib inline"
   ]
  },
  {
   "cell_type": "code",
   "execution_count": 101,
   "metadata": {},
   "outputs": [],
   "source": [
    "def CreateXpoly(X, n):\n",
    "    Xpoly = X**0\n",
    "    for i in range(1, n+1):\n",
    "        Xpoly = np.hstack([Xpoly, X**i])\n",
    "#         print(i, X**i, Xpoly)\n",
    "    return Xpoly"
   ]
  },
  {
   "cell_type": "code",
   "execution_count": 102,
   "metadata": {},
   "outputs": [
    {
     "data": {
      "text/plain": [
       "array([[ 1,  1,  1,  1],\n",
       "       [ 1,  2,  4,  8],\n",
       "       [ 1,  3,  9, 27]], dtype=int32)"
      ]
     },
     "execution_count": 102,
     "metadata": {},
     "output_type": "execute_result"
    }
   ],
   "source": [
    "a = np.array([\n",
    "    [1],\n",
    "    [2],\n",
    "    [3]\n",
    "])\n",
    "b = np.array([\n",
    "    [4],\n",
    "    [5],\n",
    "    [6]\n",
    "])\n",
    "c = CreateXpoly(a, 3)\n",
    "c"
   ]
  },
  {
   "cell_type": "code",
   "execution_count": 103,
   "metadata": {},
   "outputs": [],
   "source": [
    "def FindW(Xpoly, Y):\n",
    "    front = inv(np.dot(Xpoly.T, Xpoly))\n",
    "    back = np.dot(Xpoly.T, Y)\n",
    "    W = np.dot(front, back)\n",
    "    return W"
   ]
  },
  {
   "cell_type": "code",
   "execution_count": 104,
   "metadata": {},
   "outputs": [],
   "source": [
    "def FindYhat(Xpoly, W):\n",
    "    return np.dot(Xpoly, W)"
   ]
  },
  {
   "cell_type": "code",
   "execution_count": 105,
   "metadata": {},
   "outputs": [],
   "source": [
    "def FindError(Y, Yhat):\n",
    "    Error = ((Y - Yhat)**2).sum()\n",
    "    return Error"
   ]
  },
  {
   "cell_type": "code",
   "execution_count": 129,
   "metadata": {},
   "outputs": [],
   "source": [
    "Data = pd.read_csv('w1_ex1.csv')\n",
    "DataMatrix = Data.values\n",
    "X = DataMatrix[:, 1:2] # D:D+1\n",
    "Y = DataMatrix[:, 2:3] # D:D+1"
   ]
  },
  {
   "cell_type": "code",
   "execution_count": 132,
   "metadata": {},
   "outputs": [],
   "source": [
    "XTrain = X[:70]\n",
    "YTrain = Y[:70]\n",
    "\n",
    "XTest = X[70:]\n",
    "YTest = Y[70:]"
   ]
  },
  {
   "cell_type": "code",
   "execution_count": 138,
   "metadata": {},
   "outputs": [
    {
     "name": "stdout",
     "output_type": "stream",
     "text": [
      "3.0095143851976562\n"
     ]
    }
   ],
   "source": [
    "XpolyTrain = CreateXpoly(XTrain, 10)\n",
    "W = FindW(XpolyTrain, YTrain)\n",
    "YhatTrain = FindYhat(XpolyTrain, W)\n",
    "ErrorTrain = FindError(YTrain, YhatTrain)\n",
    "print(ErrorTrain)"
   ]
  },
  {
   "cell_type": "code",
   "execution_count": 139,
   "metadata": {},
   "outputs": [
    {
     "name": "stdout",
     "output_type": "stream",
     "text": [
      "0.17665830472136468\n"
     ]
    }
   ],
   "source": [
    "XpolyTest = CreateXpoly(XTest, 10)\n",
    "YhatTest = FindYhat(XpolyTest, W)\n",
    "ErrorTest = FindError(YTest, YhatTest)\n",
    "print(ErrorTest)"
   ]
  },
  {
   "cell_type": "code",
   "execution_count": 145,
   "metadata": {},
   "outputs": [],
   "source": [
    "Unseen = pd.read_csv('w1_ex1.csv')\n",
    "UnseenMatrix = Unseen.values\n",
    "UnseenX = UnseenMatrix[:, 1:2]\n",
    "UnseenY = UnseenMatrix[:, 2:3]"
   ]
  },
  {
   "cell_type": "code",
   "execution_count": 146,
   "metadata": {},
   "outputs": [
    {
     "data": {
      "text/plain": [
       "<matplotlib.legend.Legend at 0x11202310>"
      ]
     },
     "execution_count": 146,
     "metadata": {},
     "output_type": "execute_result"
    },
    {
     "data": {
      "image/png": "[encoded data removed]",
      "text/plain": [
       "<Figure size 432x288 with 1 Axes>"
      ]
     },
     "metadata": {
      "needs_background": "light"
     },
     "output_type": "display_data"
    }
   ],
   "source": [
    "UnseenXpoly = CreateXpoly(UnseenX, 10)\n",
    "UnseenYhat = FindYhat(UnseenXpoly, W)\n",
    "ErrorUnseen = FindError(UnseenY, UnseenYhat)\n",
    "plt.plot(UnseenYhat, label='Predict Data')\n",
    "plt.plot(UnseenY, label='Unseen Data')\n",
    "plt.legend()\n",
    "# print(UnseenYhat)"
   ]
  },
  {
   "cell_type": "code",
   "execution_count": null,
   "metadata": {},
   "outputs": [],
   "source": []
  }
 ],
 "metadata": {
  "kernelspec": {
   "display_name": "Python 3",
   "language": "python",
   "name": "python3"
  },
  "language_info": {
   "codemirror_mode": {
    "name": "ipython",
    "version": 3
   },
   "file_extension": ".py",
   "mimetype": "text/x-python",
   "name": "python",
   "nbconvert_exporter": "python",
   "pygments_lexer": "ipython3",
   "version": "3.8.2"
  }
 },
 "nbformat": 4,
 "nbformat_minor": 4
}
