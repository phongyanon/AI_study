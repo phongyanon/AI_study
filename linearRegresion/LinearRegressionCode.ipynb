{
 "cells": [
  {
   "cell_type": "code",
   "execution_count": 19,
   "metadata": {},
   "outputs": [],
   "source": [
    "import numpy as np\n",
    "import pandas as pd\n",
    "import matplotlib.pyplot as plt\n",
    "%matplotlib inline"
   ]
  },
  {
   "cell_type": "code",
   "execution_count": 20,
   "metadata": {},
   "outputs": [],
   "source": [
    "def LR_find_r(X, Y):\n",
    "    Xmean = X.mean()\n",
    "    Ymean = Y.mean()\n",
    "    fraction = ((X-Xmean)*(Y-Ymean)).sum()\n",
    "    denorminator = np.sqrt( ((X-Xmean)**2).sum() * ((Y-Ymean)**2).sum() )\n",
    "    r = fraction/denorminator\n",
    "    return r"
   ]
  },
  {
   "cell_type": "code",
   "execution_count": 21,
   "metadata": {},
   "outputs": [],
   "source": [
    "def LR_find_ab(X, Y):\n",
    "    XY = X*Y\n",
    "    X2 = X**2\n",
    "    Xmean = X.mean()\n",
    "    Ymean = Y.mean()\n",
    "    XYmean = XY.mean()\n",
    "    X2mean = X2.mean()\n",
    "    denorminator = X2mean - Xmean**2\n",
    "    a = ( XYmean - Xmean*Ymean ) / denorminator\n",
    "    b = ( X2mean*Ymean - Xmean*XYmean ) / denorminator\n",
    "    return a, b"
   ]
  },
  {
   "cell_type": "code",
   "execution_count": 22,
   "metadata": {},
   "outputs": [],
   "source": [
    "def LR_find_Yhat(X, a, b):\n",
    "    Yhat = a*X + b\n",
    "    return Yhat"
   ]
  },
  {
   "cell_type": "code",
   "execution_count": 23,
   "metadata": {},
   "outputs": [],
   "source": [
    "def find_error(Y, Yhat, TypeOfError):\n",
    "    if TypeOfError == 'SSE':\n",
    "        error = find_SSE(Y, Yhat)\n",
    "    elif TypeOfError == 'MSE':\n",
    "        error = find_MSE(Y, Yhat)\n",
    "    elif TypeOfError == 'MAE':\n",
    "        error = find_MAE(Y, Yhat)\n",
    "    elif TypeOfError == 'MAPE':\n",
    "        error = find_MAPE(Y, Yhat)\n",
    "    return error"
   ]
  },
  {
   "cell_type": "code",
   "execution_count": 24,
   "metadata": {},
   "outputs": [],
   "source": [
    "def find_SSE(Y, Yhat):\n",
    "    SSE = ((Y-Yhat)**2).sum()\n",
    "    return SSE"
   ]
  },
  {
   "cell_type": "code",
   "execution_count": 25,
   "metadata": {},
   "outputs": [],
   "source": [
    "def find_MSE(Y, Yhat):\n",
    "    N = Y.shape[0]\n",
    "    SSE = ((Y-Yhat)**2).sum()\n",
    "    MSE = SSE/N\n",
    "    return MSE"
   ]
  },
  {
   "cell_type": "code",
   "execution_count": 26,
   "metadata": {},
   "outputs": [],
   "source": [
    "def find_MAE(Y, Yhat):\n",
    "    N = Y.shape[0]\n",
    "    MAE = np.abs(Y-Yhat).sum()/N\n",
    "    return MAE"
   ]
  },
  {
   "cell_type": "code",
   "execution_count": 27,
   "metadata": {},
   "outputs": [],
   "source": [
    "def find_MAPE(Y, Yhat):\n",
    "    N = Y.shape[0]\n",
    "    MAPE = np.abs((Y-Yhat)/Y).sum()*100/N\n",
    "    return MAPE"
   ]
  },
  {
   "cell_type": "code",
   "execution_count": 28,
   "metadata": {},
   "outputs": [],
   "source": [
    "# Data = pd.read_excel('Data.xlsx')\n",
    "Data = pd.read_csv('w1_ex1.csv')\n",
    "# DataMatrix = Data.as_matrix() # not support\n",
    "DataMatrix = Data.values\n",
    "\n",
    "X = DataMatrix[:, 1]\n",
    "Y = DataMatrix[:, 2]"
   ]
  },
  {
   "cell_type": "code",
   "execution_count": 40,
   "metadata": {},
   "outputs": [
    {
     "name": "stdout",
     "output_type": "stream",
     "text": [
      "2.0 0.999999999999994\n",
      "[ 1.   1.2  1.4  1.6  1.8  2.   2.2  2.4  2.6  2.8  3.   3.2  3.4  3.6\n",
      "  3.8  4.   4.2  4.4  4.6  4.8  5.   5.2  5.4  5.6  5.8  6.   6.2  6.4\n",
      "  6.6  6.8  7.   7.2  7.4  7.6  7.8  8.   8.2  8.4  8.6  8.8  9.   9.2\n",
      "  9.4  9.6  9.8 10.  10.2 10.4 10.6 10.8 11.  11.2 11.4 11.6 11.8 12.\n",
      " 12.2 12.4 12.6 12.8 13.  13.2 13.4 13.6 13.8 14.  14.2 14.4 14.6 14.8\n",
      " 15.  15.2 15.4 15.6 15.8 16.  16.2 16.4 16.6 16.8 17.  17.2 17.4 17.6\n",
      " 17.8 18.  18.2 18.4 18.6 18.8 19.  19.2 19.4 19.6 19.8 20.  20.2 20.4\n",
      " 20.6 20.8] 100\n",
      "3.527638056728636e-27\n"
     ]
    }
   ],
   "source": [
    "# Data => Modeling => Pridiction\n",
    "# Training Set 70% and Test Set 30%\n",
    "X_Train = X# X[:70]\n",
    "Y_Train = Y# Y[:70]\n",
    "a, b = LR_find_ab(X_Train, Y_Train)\n",
    "print(a, b)\n",
    "Yhat_Train =LR_find_Yhat(X_Train, a, b)\n",
    "print(Yhat_Train, len(Yhat_Train))\n",
    "error_Train = find_error(Y, Yhat_Train, 'SSE')\n",
    "print(error_Train)"
   ]
  },
  {
   "cell_type": "code",
   "execution_count": 41,
   "metadata": {},
   "outputs": [
    {
     "name": "stdout",
     "output_type": "stream",
     "text": [
      "3.527638056728636e-27\n"
     ]
    },
    {
     "data": {
      "image/png": "[encoded data removed]",
      "text/plain": [
       "<Figure size 432x288 with 1 Axes>"
      ]
     },
     "metadata": {
      "needs_background": "light"
     },
     "output_type": "display_data"
    }
   ],
   "source": [
    "plt.plot(Y_Train, label='Real Train')\n",
    "plt.plot(Yhat_Train, label='Predicted Train')\n",
    "plt.legend()\n",
    "print(error_Train)"
   ]
  },
  {
   "cell_type": "code",
   "execution_count": 46,
   "metadata": {},
   "outputs": [
    {
     "name": "stdout",
     "output_type": "stream",
     "text": [
      "3.527638056728636e-27\n"
     ]
    },
    {
     "data": {
      "image/png": "[encoded data removed]",
      "text/plain": [
       "<Figure size 432x288 with 1 Axes>"
      ]
     },
     "metadata": {
      "needs_background": "light"
     },
     "output_type": "display_data"
    }
   ],
   "source": [
    "X_Test = X\n",
    "Y_Test = Y\n",
    "\n",
    "Yhat_Test = LR_find_Yhat(X_Test, a, b)\n",
    "error_Test = find_error(Y_Test, Yhat_Test, 'SSE')\n",
    "\n",
    "plt.plot(Y_Test, label='Real Test')\n",
    "plt.plot(Yhat_Test, label='Predicted Test')\n",
    "plt.legend()\n",
    "print(error_Test)"
   ]
  },
  {
   "cell_type": "code",
   "execution_count": null,
   "metadata": {},
   "outputs": [],
   "source": []
  }
 ],
 "metadata": {
  "kernelspec": {
   "display_name": "Python 3",
   "language": "python",
   "name": "python3"
  },
  "language_info": {
   "codemirror_mode": {
    "name": "ipython",
    "version": 3
   },
   "file_extension": ".py",
   "mimetype": "text/x-python",
   "name": "python",
   "nbconvert_exporter": "python",
   "pygments_lexer": "ipython3",
   "version": "3.8.2"
  }
 },
 "nbformat": 4,
 "nbformat_minor": 4
}
